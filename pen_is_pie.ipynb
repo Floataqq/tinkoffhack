{
 "cells": [
  {
   "cell_type": "code",
   "execution_count": null,
   "metadata": {
    "id": "JkRi0tcI1IOR"
   },
   "outputs": [],
   "source": [
    "import pandas as pd\n",
    "from sklearn.model_selection import train_test_split\n",
    "from sklearn.preprocessing import MinMaxScaler\n",
    "from keras.models import Sequential\n",
    "from datetime import datetime\n",
    "from sklearn.preprocessing import StandardScaler, OneHotEncoder\n",
    "from sklearn.model_selection import train_test_split\n",
    "import numpy as np\n",
    "import matplotlib.pyplot as plt\n",
    "import json\n",
    "from keras.layers import LSTM, Dense"
   ]
  },
  {
   "cell_type": "code",
   "execution_count": null,
   "metadata": {
    "id": "Zt2txPHZ1XOn"
   },
   "outputs": [],
   "source": [
    "data = pd.read_csv('Merch_CB_hack.csv')\n",
    "date_format = \"%Y-%m-%d %H:%M:%S\"\n",
    "\n",
    "data['day'] = pd.to_datetime(data['day'], format=date_format)\n",
    "\n",
    "data['days_since_2022'] = (data['day'] - datetime.strptime(\"1/1/2022\", \"%m/%d/%Y\")).dt.days\n"
   ]
  },
  {
   "cell_type": "code",
   "execution_count": null,
   "metadata": {
    "colab": {
     "base_uri": "https://localhost:8080/"
    },
    "id": "zw-FHjQu6tVu",
    "outputId": "23651531-af94-44fa-b039-a110f3793e67"
   },
   "outputs": [],
   "source": [
    "with open('res.json') as f:\n",
    "  json_ = json.load(f)\n",
    "json_data = json_\n",
    "for branch, companies in json_.items():\n",
    "\n",
    "    # Iterate over companies within the branch\n",
    "    for company, company_data in companies.items():\n",
    "        x_axis = []\n",
    "        y_axis = []\n",
    "\n",
    "        # Prepare data for the current company\n",
    "        for point in company_data:\n",
    "          x_axis.append(point[0])\n",
    "          y_axis.append(point[1])\n",
    "        company_data = {}\n",
    "        company_data['x'] = x_axis\n",
    "        company_data['y'] = y_axis\n",
    "        json_data[branch][company] = company_data\n",
    "json_data"
   ]
  },
  {
   "cell_type": "code",
   "execution_count": null,
   "metadata": {
    "colab": {
     "base_uri": "https://localhost:8080/",
     "height": 419
    },
    "id": "pkTzEf7PdVIt",
    "outputId": "c5a6e485-ae08-4549-bb12-257a1f0b35f3"
   },
   "outputs": [],
   "source": [
    "data = data.sort_values(by=['merchant_name'])\n",
    "data"
   ]
  },
  {
   "cell_type": "code",
   "execution_count": null,
   "metadata": {
    "colab": {
     "base_uri": "https://localhost:8080/",
     "height": 207
    },
    "id": "erKw8aPvC_VB",
    "outputId": "1d8e5204-f0c6-4fbd-9b1a-560c909d8b98"
   },
   "outputs": [],
   "source": [
    "'''\n",
    "data_parcing\n",
    "'''\n",
    "merchant_name = data['merchant_name'][0]\n",
    "data_train = []\n",
    "temp_data = []\n",
    "data_vkus = []\n",
    "for index, elem in data.iterrows():\n",
    "  if elem['merchant_name'] == merchant_name:\n",
    "    temp_data.append([elem['days_since_2022'], elem['cashback']])\n",
    "  else:\n",
    "    if merchant_name.find(\"Вкус\") > -1:\n",
    "      data_vkus.append(temp_data)\n",
    "    if len(temp_data) > 0:\n",
    "      data_train.append(temp_data)\n",
    "    merchant_name = elem['merchant_name']\n",
    "    temp_data = []\n",
    "    temp_data.append([elem['days_since_2022'], elem['cashback']])\n",
    "data_vkus"
   ]
  },
  {
   "cell_type": "code",
   "execution_count": null,
   "metadata": {
    "id": "duxnod_5ulYm"
   },
   "outputs": [],
   "source": [
    "'''\n",
    "self-written normalization for kids\n",
    "'''\n",
    "\n",
    "def norm(data):\n",
    "  for i in range(len(data)):\n",
    "    data_test = data[i]\n",
    "    xmax = 0\n",
    "    ymax = 0\n",
    "    for elem in data_test:\n",
    "      print(elem)\n",
    "      xmax = max(xmax, elem[0])\n",
    "      ymax = max(ymax, elem[1])\n",
    "\n",
    "    for elem in range(len(data_test)):\n",
    "      data_set[elem][0] /= xmax\n",
    "      data_set[elem][1] /= ymax"
   ]
  },
  {
   "cell_type": "code",
   "execution_count": null,
   "metadata": {
    "id": "_tcTVt7caHOC"
   },
   "outputs": [],
   "source": [
    "data_pere = []\n",
    "for index, elem in data.iterrows():\n",
    "  if elem['merchant_name'] == \"Перекрёсток\":\n",
    "    data_pere.append([elem['days_since_2022'], elem['cashback']])\n",
    "\n",
    "xmax = 0\n",
    "ymax = 0\n",
    "for elem in data_pere:\n",
    "  print(elem)\n",
    "  xmax = max(xmax, elem[0])\n",
    "  ymax = max(ymax, elem[1])\n",
    "\n",
    "for elem in data_pere:\n",
    "  elem[0] /= xmax\n",
    "  elem[1] /= ymax\n",
    "\n",
    "X_test = np.array([item[0] for item in data_pere]).reshape(-1,  1) # Features\n",
    "y_test = np.array([item[1] for item in data_pere])\n",
    "\n"
   ]
  },
  {
   "cell_type": "code",
   "execution_count": null,
   "metadata": {
    "id": "YMquMP_hjK-7"
   },
   "outputs": [],
   "source": [
    "data_vkus = np.array(data_vkus, dtype=object)"
   ]
  },
  {
   "cell_type": "code",
   "execution_count": null,
   "metadata": {
    "id": "fEbM88KMvpIM"
   },
   "outputs": [],
   "source": [
    "'''\n",
    "fnn for loosers\n",
    "'''\n",
    "\n",
    "model = Sequential()\n",
    "model.add(Dense(40, input_dim=1, activation='relu'))  # Hidden layer\n",
    "model.add(Dense(40, input_dim=1, activation='relu'))\n",
    "model.add(Dense(1, activation='sigmoid'))  # Output layer\n",
    "\n",
    "# Compile the model\n",
    "model.compile(loss='mean_squared_error', optimizer='adam')\n"
   ]
  },
  {
   "cell_type": "code",
   "execution_count": null,
   "metadata": {
    "colab": {
     "base_uri": "https://localhost:8080/"
    },
    "id": "skxMZwjOOdPZ",
    "outputId": "8741c243-c822-4ba9-cf29-d33366eee3f1"
   },
   "outputs": [
    {
     "name": "stdout",
     "output_type": "stream",
     "text": [
      "22\n"
     ]
    }
   ],
   "source": [
    "'''\n",
    "BIG PIECE OF GARBAGE\n",
    "\n",
    "\n",
    "fnn for loosers. punks not dead\n",
    "'''\n",
    "\n",
    "\n",
    "for i in range(len(data_vkus)):\n",
    "  data_test = data_vkus[i]\n",
    "  xmax = 0\n",
    "  ymax = 0\n",
    "  for elem in data_test:\n",
    "    xmax = max(xmax, elem[0])\n",
    "    ymax = max(ymax, elem[1])\n",
    "\n",
    "  for elem in data_test:\n",
    "    elem[0] /= xmax\n",
    "    elem[1] /= ymax\n",
    "\n",
    "print(len(data_test))\n",
    "\n",
    "X_train = np.array([item[0] for item in data_vkus[0]]).reshape(-1,  1) # Features\n",
    "y_train = np.array([item[1] for item in data_vkus[0]])\n",
    "\n",
    "X1_train = np.array([item[0] for item in data_vkus[1]]).reshape(-1,  1) # Features\n",
    "y1_train = np.array([item[1] for item in data_vkus[1]])\n",
    "\n",
    "X2_train = np.array([item[0] for item in data_vkus[2]]).reshape(-1,  1) # Features\n",
    "y2_train = np.array([item[1] for item in data_vkus[2]])\n",
    "\n",
    "X3_train = np.array([item[0] for item in data_vkus[3]]).reshape(-1,  1) # Features\n",
    "y3_train = np.array([item[1] for item in data_vkus[3]])\n",
    "\n",
    "X4_train = np.array([item[0] for item in data_vkus[4]]).reshape(-1,  1) # Features\n",
    "y4_train = np.array([item[1] for item in data_vkus[4]])\n",
    "\n",
    "X5_train = np.array([item[0] for item in data_vkus[5]]).reshape(-1,  1) # Features\n",
    "y5_train = np.array([item[1] for item in data_vkus[5]])\n",
    "\n",
    "X6_train = np.array([item[0] for item in data_vkus[6]]).reshape(-1,  1) # Features\n",
    "y6_train = np.array([item[1] for item in data_vkus[6]])\n",
    "\n",
    "X7_train = np.array([item[0] for item in data_vkus[7]]).reshape(-1,  1) # Features\n",
    "y7_train = np.array([item[1] for item in data_vkus[7]])\n",
    "X8_train = np.array([item[0] for item in data_vkus[8]]).reshape(-1,  1) # Features\n",
    "y8_train = np.array([item[1] for item in data_vkus[8]])\n",
    "X9_train = np.array([item[0] for item in data_vkus[9]]).reshape(-1,  1) # Features\n",
    "y9_train = np.array([item[1] for item in data_vkus[9]])\n"
   ]
  },
  {
   "cell_type": "code",
   "execution_count": null,
   "metadata": {
    "id": "XGdovNYWME3r"
   },
   "outputs": [],
   "source": [
    "'''\n",
    "cringe\n",
    "'''\n",
    "model.fit(X_train, y_train, epochs=150, batch_size=5)\n",
    "model.fit(X1_train, y1_train, epochs=150, batch_size=5)\n",
    "model.fit(X2_train, y2_train, epochs=150, batch_size=5)\n",
    "model.fit(X3_train, y3_train, epochs=150, batch_size=5)\n",
    "model.fit(X4_train, y4_train, epochs=150, batch_size=5)\n",
    "model.fit(X5_train, y5_train, epochs=150, batch_size=5)\n",
    "model.fit(X6_train, y6_train, epochs=150, batch_size=5)\n",
    "model.fit(X7_train, y7_train, epochs=150, batch_size=5)\n",
    "model.fit(X8_train, y8_train, epochs=150, batch_size=5)\n",
    "model.fit(X9_train, y9_train, epochs=150, batch_size=5)"
   ]
  },
  {
   "cell_type": "code",
   "execution_count": null,
   "metadata": {
    "colab": {
     "base_uri": "https://localhost:8080/",
     "height": 524
    },
    "id": "rlQ5Ma4ivqO-",
    "outputId": "513f6ed4-094a-4ea4-d828-f5297b12763e"
   },
   "outputs": [
    {
     "name": "stdout",
     "output_type": "stream",
     "text": [
      "10/10 - 0s - loss: 0.2986 - 115ms/epoch - 12ms/step\n",
      "Test MSE: 0.29857340455055237\n",
      "10/10 [==============================] - 0s 2ms/step\n"
     ]
    },
    {
     "data": {
      "image/png": "[encoded data removed]",
      "text/plain": [
       "<Figure size 640x480 with 1 Axes>"
      ]
     },
     "metadata": {},
     "output_type": "display_data"
    }
   ],
   "source": [
    "'''\n",
    "the funniest thing is that this piece of shit would score more points than the solution which we provided\n",
    "'''\n",
    "mse = model.evaluate(X_test, y_test, verbose=2)\n",
    "print(f\"Test MSE: {mse}\")\n",
    "y_pred = model.predict(X_test)\n",
    "plt.scatter(X_test, y_test, color='blue', label='Actual')\n",
    "plt.scatter(X_test, y_pred, color='red', label='Predicted')\n",
    "plt.xlabel('X_test')\n",
    "plt.ylabel('Values')\n",
    "plt.title('Actual vs Predicted Values')\n",
    "plt.legend()\n",
    "plt.show()"
   ]
  },
  {
   "cell_type": "code",
   "execution_count": null,
   "metadata": {
    "id": "bO4H3z5Ipql5"
   },
   "outputs": [],
   "source": [
    "'''\n",
    "this one fixed data with 0 points\n",
    "yea it's quite late to fix this but who cares\n",
    "'''\n",
    "for branch, companies in json_data.items():\n",
    "\n",
    "    for company, company_data in companies.items():\n",
    "        print(company_data)\n",
    "        if len(company_data['x']) == 0 or len(company_data['y']) == 0:\n",
    "          json_data[branch][company]['x'] = [1.0]\n",
    "          json_data[branch][company]['y'] = [1.0]\n",
    "\n",
    "        xmax = max(company_data['x'])\n",
    "        ymax = max(company_data['y'])\n",
    "        for key, elem in company_data.items():\n",
    "          if key == 'x':\n",
    "            for x in range(len(elem)):\n",
    "              elem[x] /= xmax\n",
    "\n",
    "          if key == 'y':\n",
    "            for y in range(len(elem)):\n",
    "              elem[y] /= ymax\n",
    "\n",
    "json_data\n"
   ]
  },
  {
   "cell_type": "code",
   "execution_count": null,
   "metadata": {
    "colab": {
     "background_save": true
    },
    "id": "DkEfbcHriVuw"
   },
   "outputs": [],
   "source": [
    "'''\n",
    "neural network itself\n",
    "long story short, i find quite funny that lstm is created mostly for ndim=3 data and basically can be expanded\n",
    "on higher ndim(bcs z=features, which can be any natural num so no one can stop you from creating 69420-dimensional nn)\n",
    "\n",
    "nonetheless this thing is like hadron collider for our task, but, the precision of 1e-4 is awesome result!!!!\n",
    "'''\n",
    "\n",
    "for branch, companies in json_data.items():\n",
    "    print(f\"Branch: {branch}\")\n",
    "    model = Sequential([\n",
    "            LSTM(64, input_shape=(X_train.shape[1], 1)),\n",
    "            Dense(32, activation='relu'),\n",
    "            Dense(1)\n",
    "        ])\n",
    "    model.compile(optimizer='adam', loss='mse')\n",
    "\n",
    "    for company, company_data in companies.items():\n",
    "        print(f\"Company: {company}\")\n",
    "        if len(X_company) == 0 or len(y_company) == 0:\n",
    "          pass\n",
    "        else:\n",
    "          X_company = pd.DataFrame(company_data['x'])\n",
    "          y_company = pd.DataFrame(company_data['y'])\n",
    "\n",
    "\n",
    "\n",
    "          X_train, X_test, y_train, y_test = train_test_split(X_company, y_company, test_size=0.2, random_state=42)\n",
    "          model.fit(X_train, y_train, epochs=150, batch_size=32, validation_data=(X_test, y_test))\n",
    "\n",
    "          loss = model.evaluate(X_test, y_test)\n",
    "          print(f\"Test Loss: {loss}\")\n",
    "\n",
    "    model.save(f\"{branch}_model.h5\")\n"
   ]
  },
  {
   "cell_type": "code",
   "source": [
    "'''\n",
    "this part can be seen in fastapi files, but the prototype of final version was built there\n",
    "hackathon task was awful and this code was written very badly, so, there are more space for improvement\n",
    "\n",
    "in short - it predicts the future step from given data\n",
    "'''\n",
    "from keras.models import load_model\n",
    "\n",
    "def normalize(y_cashbacks, budget):\n",
    "    if y_cashbacks.shape[0] < 5:\n",
    "      return pd.DataFrame([[0] * len(y_cashbacks.columns)] * len(y_cashbacks), columns=y_cashbacks.columns)\n",
    "    ymax = max(y_cashbacks['0'], budget)\n",
    "    y_norm = y_cashbacks['0'] / ymax\n",
    "    return y_norm\n",
    "\n",
    "def algo(cash, branch, y_cashbacks, budget):\n",
    "    x_new = pd.DataFrame([[i/15] for i in range(1, 16)])\n",
    "    y_cashbacks = y_cashbacks.append({'0': cash}, ignore_index=True)\n",
    "    y_norm = normalize(y_cashbacks, budget)\n",
    "    model = load_model(f\"{branch}_model.h5\")\n",
    "\n",
    "    predicted_cashback = model.predict(x_new.values.reshape(-1, 1, 1))\n",
    "\n",
    "    return predicted_cashback[0][0] >= y_norm.iloc[-1]\n",
    "\n",
    "\n",
    "def algo_branch(cash, branches, y_cashbacks, budget):\n",
    "    loss_list = []\n",
    "    x_new = pd.DataFrame([[i/15] for i in range(1, 16)])\n",
    "    y_cashbacks = y_cashbacks.append({'0': cash}, ignore_index=True)\n",
    "    y_norm = normalize(y_cashbacks)\n",
    "\n",
    "    for branch in branches:\n",
    "        model = load_model(f\"{branch}_model.h5\")\n",
    "        loss = model.evaluate(x_new.values.reshape((-1, 1, 1)), 1)\n",
    "        loss_list.append([branch, loss])\n",
    "\n",
    "    loss_list.sort(key=lambda x: x[1])\n",
    "    need_branch = loss_list[0][0]\n",
    "\n",
    "    return algo(cash, need_branch, y_cashbacks, budget)\n",
    "\n",
    "algo(100, 'Clothes', pd.DataFrame({'0': [5]}))\n"
   ],
   "metadata": {
    "colab": {
     "base_uri": "https://localhost:8080/"
    },
    "id": "pH1_PTOjY5JJ",
    "outputId": "9654201c-3ef1-42be-8658-a83c67f62915"
   },
   "execution_count": null,
   "outputs": []
  },
  {
   "cell_type": "code",
   "source": [
    "import pandas\n",
    "pandas.__version__\n"
   ],
   "metadata": {
    "colab": {
     "base_uri": "https://localhost:8080/",
     "height": 35
    },
    "id": "frf1o6vgaRwa",
    "outputId": "38195508-4080-44db-82e3-14ba158a0e71"
   },
   "execution_count": null,
   "outputs": [
    {
     "output_type": "execute_result",
     "data": {
      "text/plain": [
       "'1.5.3'"
      ],
      "application/vnd.google.colaboratory.intrinsic+json": {
       "type": "string"
      }
     },
     "metadata": {},
     "execution_count": 56
    }
   ]
  },
  {
   "cell_type": "code",
   "source": [],
   "metadata": {
    "id": "Ps5PYi5waUbB"
   },
   "execution_count": null,
   "outputs": []
  }
 ],
 "metadata": {
  "colab": {
   "provenance": []
  },
  "kernelspec": {
   "display_name": "Python 3",
   "name": "python3"
  },
  "language_info": {
   "name": "python"
  }
 },
 "nbformat": 4,
 "nbformat_minor": 0
}
